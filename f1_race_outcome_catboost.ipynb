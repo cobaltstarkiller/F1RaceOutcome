{
 "cells": [
  {
   "cell_type": "code",
   "execution_count": 1,
   "metadata": {},
   "outputs": [],
   "source": [
    "import pandas as pd\n",
    "import numpy as np\n",
    "\n",
    "#Step 1: Data Extraction and Loading\n",
    "\n",
    "#Extract Data: Load the necessary tables from the Ergast dataset, which includes drivers, constructors, races, qualifying, results, driverStandings, and constructorStandings.\n",
    "#Load Data: Use a database client (e.g., MySQL, SQLite) or CSV files to load the data into a pandas DataFrame.\n",
    "# Load data\n",
    "constructors_df = pd.read_csv(\"f1db_csv/constructors.csv\")\n",
    "races_df=pd.read_csv(\"f1db_csv/races.csv\")\n",
    "quali_df=pd.read_csv(\"f1db_csv/qualifying.csv\")\n",
    "results_df=pd.read_csv(\"f1db_csv/results.csv\")\n",
    "driverStandings_df=pd.read_csv(\"f1db_csv/driver_standings.csv\")\n",
    "constructorStandings_df=pd.read_csv(\"f1db_csv/constructor_standings.csv\")\n",
    "drivers_df = pd.read_csv('f1db_csv/drivers.csv')\n",
    "\n",
    "#Step 2: Data Preprocessing\n",
    "\n",
    "#Merge Tables:\n",
    "#Merge results with races to get race-specific details.\n",
    "#Merge the combined DataFrame with qualifying to get qualifying positions.\n",
    "#Merge with driverStandings and constructorStandings to include standings.\n",
    "#Merge with drivers and constructors to add driver and constructor details.\n",
    "\n",
    "# Merge data\n",
    "data = results_df.merge(races_df, on=\"raceId\")\n",
    "data1 = data.merge(quali_df, on=[\"raceId\",\"driverId\",\"constructorId\"], how=\"left\")\n",
    "data2 = data1.merge(driverStandings_df, on=[\"raceId\",\"driverId\"], how=\"left\")\n",
    "data3 = data2.merge(constructorStandings_df, on=['raceId','constructorId'])\n",
    "data4 = data3.merge(drivers_df, on=['driverId'], how='left')\n",
    "data5 = data4.merge(constructors_df, on=['constructorId'], how='left')"
   ]
  },
  {
   "cell_type": "code",
   "execution_count": 2,
   "metadata": {},
   "outputs": [
    {
     "name": "stderr",
     "output_type": "stream",
     "text": [
      "C:\\Users\\HP\\AppData\\Local\\Temp\\ipykernel_9260\\504534400.py:10: FutureWarning: DataFrame.applymap has been deprecated. Use DataFrame.map instead.\n",
      "  total_n_values = (data5.applymap(lambda x: x == '\\\\N')).sum().sum()\n"
     ]
    },
    {
     "name": "stdout",
     "output_type": "stream",
     "text": [
      "0\n"
     ]
    }
   ],
   "source": [
    "#Handle Missing Values:\n",
    "#Fill or drop missing values as appropriate for the analysis.\n",
    "#Common strategies include filling with mean/median/mode or dropping rows with missing critical values.\n",
    "#Convert Data Types:\n",
    "#Ensure all columns are in the appropriate data type (e.g., integers for IDs, floats for numerical values).\n",
    "\n",
    "columns=data5.columns\n",
    "\n",
    "data5.replace('\\\\N', np.nan, inplace=True)\n",
    "total_n_values = (data5.applymap(lambda x: x == '\\\\N')).sum().sum()\n",
    "print(total_n_values)\n",
    "\n",
    "data5.to_csv('output.csv', index=False)\n",
    "f1data=pd.read_csv(\"output.csv\", low_memory=False, index_col=False)\n",
    "f1data.drop(['drivers_url','const_url'], axis=1, inplace=True)"
   ]
  },
  {
   "cell_type": "code",
   "execution_count": 3,
   "metadata": {},
   "outputs": [
    {
     "name": "stderr",
     "output_type": "stream",
     "text": [
      "C:\\Users\\HP\\AppData\\Local\\Temp\\ipykernel_9260\\749425323.py:25: SettingWithCopyWarning: \n",
      "A value is trying to be set on a copy of a slice from a DataFrame\n",
      "\n",
      "See the caveats in the documentation: https://pandas.pydata.org/pandas-docs/stable/user_guide/indexing.html#returning-a-view-versus-a-copy\n",
      "  X.fillna(X.mean(), inplace=True)\n"
     ]
    }
   ],
   "source": [
    "#Step 3: Feature Engineering\n",
    "\n",
    "#Create New Features:\n",
    "#Qualifying Position: Use the qualifying position as a feature.\n",
    "#Previous Race Results: Calculate the average finishing position of the driver and constructor in previous races.\n",
    "#Circuit Characteristics: Extract features such as circuit length, number of turns, and altitude.\n",
    "#Weather Conditions: If available, include weather conditions like temperature, rain probability, etc.\n",
    "#Driver and Constructor Standings: Use the current standings points and positions.\n",
    "#Normalize/Standardize Features: Scale numerical features to ensure they have a mean of 0 and standard deviation of 1 (standardization) or scale between 0 and 1 (normalization).\n",
    "\n",
    "# Feature engineering\n",
    "f1data['average_finish'] = f1data.groupby('driverId')['results_positionOrder'].transform('mean')\n",
    "f1data['date']=pd.to_datetime(f1data['races_date']).apply(lambda x: x.year)\n",
    "f1data['age'] = f1data['date'] - pd.to_datetime(f1data['drivers_dob']).dt.year\n",
    "f1data['experience'] = f1data['year'] - f1data.groupby('driverId')['year'].transform('min')\n",
    "f1data['average_lap_time'] = f1data.groupby(['raceId', 'driverId'])['results_milliseconds'].transform('mean')\n",
    "\n",
    "# Select features and target\n",
    "features = ['age','experience','results_grid','quali_position','average_lap_time','average_finish','driver_standings_points','driver_standings_position','const_standing_points','const_standing_position']\n",
    "target = 'results_positionOrder'\n",
    "X = f1data[features]\n",
    "y = f1data[target]\n",
    "\n",
    "# Handling missing values\n",
    "X.fillna(X.mean(), inplace=True)\n",
    "\n",
    "# Encoding categorical variables\n",
    "X = pd.get_dummies(X)"
   ]
  },
  {
   "cell_type": "code",
   "execution_count": 4,
   "metadata": {},
   "outputs": [],
   "source": [
    "from sklearn.model_selection import train_test_split\n",
    "\n",
    "# Binning the target variable for classification\n",
    "y_binned = pd.qcut(y, q=5, labels=False)\n",
    "\n",
    "# Split data into training and testing sets\n",
    "X_train, X_test, y_train, y_test = train_test_split(X, y_binned, test_size=0.2, random_state=42)"
   ]
  },
  {
   "cell_type": "code",
   "execution_count": 5,
   "metadata": {},
   "outputs": [
    {
     "name": "stdout",
     "output_type": "stream",
     "text": [
      "0:\tlearn: 1.5228697\ttotal: 198ms\tremaining: 3m 17s\n",
      "100:\tlearn: 1.0141697\ttotal: 5.55s\tremaining: 49.4s\n",
      "200:\tlearn: 0.9692543\ttotal: 11.3s\tremaining: 44.9s\n",
      "300:\tlearn: 0.9371114\ttotal: 18.8s\tremaining: 43.7s\n",
      "400:\tlearn: 0.9074144\ttotal: 23.1s\tremaining: 34.5s\n",
      "500:\tlearn: 0.8815588\ttotal: 27.8s\tremaining: 27.7s\n",
      "600:\tlearn: 0.8577650\ttotal: 31.9s\tremaining: 21.2s\n",
      "700:\tlearn: 0.8385211\ttotal: 37.8s\tremaining: 16.1s\n",
      "800:\tlearn: 0.8190675\ttotal: 43.8s\tremaining: 10.9s\n",
      "900:\tlearn: 0.8002419\ttotal: 49s\tremaining: 5.39s\n",
      "999:\tlearn: 0.7819891\ttotal: 53.8s\tremaining: 0us\n",
      "Accuracy: 0.525086329473898\n",
      "              precision    recall  f1-score   support\n",
      "\n",
      "           0       0.83      0.82      0.82      1050\n",
      "           1       0.47      0.46      0.46      1025\n",
      "           2       0.38      0.39      0.39      1041\n",
      "           3       0.39      0.44      0.41       998\n",
      "           4       0.59      0.51      0.54       809\n",
      "\n",
      "    accuracy                           0.53      4923\n",
      "   macro avg       0.53      0.52      0.53      4923\n",
      "weighted avg       0.53      0.53      0.53      4923\n",
      "\n"
     ]
    }
   ],
   "source": [
    "#Step 5: Model Selection and Training\n",
    "#Choose a Model:\n",
    "#Regression models like Linear Regression, Ridge Regression.\n",
    "#Tree-based models like Decision Trees, Random Forests, Gradient Boosting.\n",
    "#Ensemble models like XGBoost, LightGBM.\n",
    "\n",
    "#Train the Model:\n",
    "#Train the chosen model using the training set.\n",
    "#Use cross-validation to tune hyperparameters and avoid overfitting.\n",
    "\n",
    "from catboost import CatBoostClassifier\n",
    "from sklearn.metrics import classification_report, accuracy_score\n",
    "\n",
    "# Define the model\n",
    "catboost_model = CatBoostClassifier(iterations=1000, learning_rate=0.1, depth=6, random_state=42, verbose=100)\n",
    "\n",
    "# Train the model\n",
    "catboost_model.fit(X_train, y_train)\n",
    "\n",
    "# Make predictions\n",
    "y_pred = catboost_model.predict(X_test)\n",
    "\n",
    "# Evaluate the model\n",
    "accuracy = accuracy_score(y_test, y_pred)\n",
    "print(f'Accuracy: {accuracy}')\n",
    "print(classification_report(y_test, y_pred))"
   ]
  },
  {
   "cell_type": "code",
   "execution_count": 6,
   "metadata": {},
   "outputs": [
    {
     "name": "stdout",
     "output_type": "stream",
     "text": [
      "Fitting 3 folds for each of 27 candidates, totalling 81 fits\n",
      "0:\tlearn: 1.5672903\ttotal: 24.6ms\tremaining: 12.3s\n",
      "100:\tlearn: 1.0752569\ttotal: 2.15s\tremaining: 8.51s\n",
      "200:\tlearn: 1.0420745\ttotal: 4.18s\tremaining: 6.22s\n",
      "300:\tlearn: 1.0218483\ttotal: 6.25s\tremaining: 4.13s\n",
      "400:\tlearn: 1.0096699\ttotal: 7.99s\tremaining: 1.97s\n",
      "499:\tlearn: 1.0006602\ttotal: 9.79s\tremaining: 0us\n",
      "Best Model Accuracy: 0.5303676619947186\n",
      "Best Parameters: {'depth': 4, 'iterations': 500, 'learning_rate': 0.05}\n",
      "              precision    recall  f1-score   support\n",
      "\n",
      "           0       0.84      0.82      0.83      1050\n",
      "           1       0.47      0.45      0.46      1025\n",
      "           2       0.39      0.40      0.40      1041\n",
      "           3       0.40      0.46      0.43       998\n",
      "           4       0.60      0.51      0.55       809\n",
      "\n",
      "    accuracy                           0.53      4923\n",
      "   macro avg       0.54      0.53      0.53      4923\n",
      "weighted avg       0.54      0.53      0.53      4923\n",
      "\n"
     ]
    }
   ],
   "source": [
    "from sklearn.model_selection import GridSearchCV\n",
    "\n",
    "# Define the hyperparameters grid\n",
    "param_grid = {\n",
    "    'iterations': [500, 1000, 1500],\n",
    "    'learning_rate': [0.01, 0.05, 0.1],\n",
    "    'depth': [4, 6, 8],\n",
    "}\n",
    "\n",
    "# Setup the GridSearchCV\n",
    "grid_search = GridSearchCV(estimator=CatBoostClassifier(random_state=42, verbose=100), param_grid=param_grid, cv=3, scoring='accuracy', verbose=2, n_jobs=-1)\n",
    "\n",
    "# Fit the model\n",
    "grid_search.fit(X_train, y_train)\n",
    "\n",
    "# Get the best parameters and score\n",
    "best_params = grid_search.best_params_\n",
    "best_model = grid_search.best_estimator_\n",
    "\n",
    "# Predict and evaluate\n",
    "y_pred = best_model.predict(X_test)\n",
    "accuracy = accuracy_score(y_test, y_pred)\n",
    "print(f'Best Model Accuracy: {accuracy}')\n",
    "print(f'Best Parameters: {best_params}')\n",
    "print(classification_report(y_test, y_pred))"
   ]
  }
 ],
 "metadata": {
  "kernelspec": {
   "display_name": "Python 3",
   "language": "python",
   "name": "python3"
  },
  "language_info": {
   "codemirror_mode": {
    "name": "ipython",
    "version": 3
   },
   "file_extension": ".py",
   "mimetype": "text/x-python",
   "name": "python",
   "nbconvert_exporter": "python",
   "pygments_lexer": "ipython3",
   "version": "3.12.4"
  }
 },
 "nbformat": 4,
 "nbformat_minor": 2
}
