{
 "cells": [
  {
   "cell_type": "code",
   "execution_count": 1,
   "metadata": {},
   "outputs": [],
   "source": [
    "import pandas as pd\n",
    "import numpy as np\n",
    "import plotly.express as px\n",
    "from xgboost import XGBRegressor\n",
    "from sklearn.model_selection import train_test_split, GridSearchCV\n",
    "from sklearn.preprocessing import StandardScaler, MinMaxScaler\n",
    "from sklearn.ensemble import RandomForestRegressor\n",
    "from sklearn.tree import DecisionTreeRegressor\n",
    "from sklearn.metrics import mean_absolute_error, mean_squared_error, r2_score\n",
    "\n",
    "#Step 1: Data Extraction and Loading\n",
    "\n",
    "#Extract Data: Load the necessary tables from the Ergast dataset, which includes drivers, constructors, races, qualifying, results, driverStandings, and constructorStandings.\n",
    "#Load Data: Use a database client (e.g., MySQL, SQLite) or CSV files to load the data into a pandas DataFrame.\n",
    "# Load data\n",
    "constructors_df = pd.read_csv(\"f1db_csv/constructors.csv\")\n",
    "races_df=pd.read_csv(\"f1db_csv/races.csv\")\n",
    "quali_df=pd.read_csv(\"f1db_csv/qualifying.csv\")\n",
    "results_df=pd.read_csv(\"f1db_csv/results.csv\")\n",
    "driverStandings_df=pd.read_csv(\"f1db_csv/driver_standings.csv\")\n",
    "constructorStandings_df=pd.read_csv(\"f1db_csv/constructor_standings.csv\")\n",
    "drivers_df = pd.read_csv('f1db_csv/drivers.csv')\n",
    "\n",
    "#Step 2: Data Preprocessing\n",
    "\n",
    "#Merge Tables:\n",
    "#Merge results with races to get race-specific details.\n",
    "#Merge the combined DataFrame with qualifying to get qualifying positions.\n",
    "#Merge with driverStandings and constructorStandings to include standings.\n",
    "#Merge with drivers and constructors to add driver and constructor details.\n",
    "\n",
    "# Merge data\n",
    "data = results_df.merge(races_df, on=\"raceId\")\n",
    "data1 = data.merge(quali_df, on=[\"raceId\",\"driverId\",\"constructorId\"], how=\"left\")\n",
    "data2 = data1.merge(driverStandings_df, on=[\"raceId\",\"driverId\"], how=\"left\")\n",
    "data3 = data2.merge(constructorStandings_df, on=['raceId','constructorId'])\n",
    "data4 = data3.merge(drivers_df, on=['driverId'], how='left')\n",
    "data5 = data4.merge(constructors_df, on=['constructorId'], how='left')"
   ]
  },
  {
   "cell_type": "code",
   "execution_count": 2,
   "metadata": {},
   "outputs": [
    {
     "name": "stderr",
     "output_type": "stream",
     "text": [
      "C:\\Users\\HP\\AppData\\Local\\Temp\\ipykernel_3136\\504534400.py:10: FutureWarning: DataFrame.applymap has been deprecated. Use DataFrame.map instead.\n",
      "  total_n_values = (data5.applymap(lambda x: x == '\\\\N')).sum().sum()\n"
     ]
    },
    {
     "name": "stdout",
     "output_type": "stream",
     "text": [
      "0\n"
     ]
    }
   ],
   "source": [
    "#Handle Missing Values:\n",
    "#Fill or drop missing values as appropriate for the analysis.\n",
    "#Common strategies include filling with mean/median/mode or dropping rows with missing critical values.\n",
    "#Convert Data Types:\n",
    "#Ensure all columns are in the appropriate data type (e.g., integers for IDs, floats for numerical values).\n",
    "\n",
    "columns=data5.columns\n",
    "\n",
    "data5.replace('\\\\N', np.nan, inplace=True)\n",
    "total_n_values = (data5.applymap(lambda x: x == '\\\\N')).sum().sum()\n",
    "print(total_n_values)\n",
    "\n",
    "data5.to_csv('output.csv', index=False)\n",
    "f1data=pd.read_csv(\"output.csv\", low_memory=False, index_col=False)\n",
    "f1data.drop(['drivers_url','const_url'], axis=1, inplace=True)"
   ]
  },
  {
   "cell_type": "code",
   "execution_count": 3,
   "metadata": {},
   "outputs": [
    {
     "name": "stderr",
     "output_type": "stream",
     "text": [
      "C:\\Users\\HP\\AppData\\Local\\Temp\\ipykernel_3136\\749425323.py:25: SettingWithCopyWarning: \n",
      "A value is trying to be set on a copy of a slice from a DataFrame\n",
      "\n",
      "See the caveats in the documentation: https://pandas.pydata.org/pandas-docs/stable/user_guide/indexing.html#returning-a-view-versus-a-copy\n",
      "  X.fillna(X.mean(), inplace=True)\n"
     ]
    }
   ],
   "source": [
    "#Step 3: Feature Engineering\n",
    "\n",
    "#Create New Features:\n",
    "#Qualifying Position: Use the qualifying position as a feature.\n",
    "#Previous Race Results: Calculate the average finishing position of the driver and constructor in previous races.\n",
    "#Circuit Characteristics: Extract features such as circuit length, number of turns, and altitude.\n",
    "#Weather Conditions: If available, include weather conditions like temperature, rain probability, etc.\n",
    "#Driver and Constructor Standings: Use the current standings points and positions.\n",
    "#Normalize/Standardize Features: Scale numerical features to ensure they have a mean of 0 and standard deviation of 1 (standardization) or scale between 0 and 1 (normalization).\n",
    "\n",
    "# Feature engineering\n",
    "f1data['average_finish'] = f1data.groupby('driverId')['results_positionOrder'].transform('mean')\n",
    "f1data['date']=pd.to_datetime(f1data['races_date']).apply(lambda x: x.year)\n",
    "f1data['age'] = f1data['date'] - pd.to_datetime(f1data['drivers_dob']).dt.year\n",
    "f1data['experience'] = f1data['year'] - f1data.groupby('driverId')['year'].transform('min')\n",
    "f1data['average_lap_time'] = f1data.groupby(['raceId', 'driverId'])['results_milliseconds'].transform('mean')\n",
    "\n",
    "# Select features and target\n",
    "features = ['age','experience','results_grid','quali_position','average_lap_time','average_finish','driver_standings_points','driver_standings_position','const_standing_points','const_standing_position']\n",
    "target = 'results_positionOrder'\n",
    "X = f1data[features]\n",
    "y = f1data[target]\n",
    "\n",
    "# Handling missing values\n",
    "X.fillna(X.mean(), inplace=True)\n",
    "\n",
    "# Encoding categorical variables\n",
    "X = pd.get_dummies(X)"
   ]
  },
  {
   "cell_type": "code",
   "execution_count": 4,
   "metadata": {},
   "outputs": [],
   "source": [
    "#Step 4: Data Splitting\n",
    "\n",
    "#Split the Data:\n",
    "#Split the data into training and test sets (e.g., 80% training, 20% testing).\n",
    "#Optionally, create a validation set from the training set for hyperparameter tuning.\n",
    "\n",
    "# Split data\n",
    "X_train, X_test, y_train, y_test = train_test_split(X, y, test_size=0.2, random_state=42)\n",
    "\n",
    "# Scale features\n",
    "# StandardScaler\n",
    "#scaler = StandardScaler()\n",
    "#X_train = scaler.fit_transform(X_train)\n",
    "#X_test = scaler.transform(X_test)"
   ]
  },
  {
   "cell_type": "code",
   "execution_count": 5,
   "metadata": {},
   "outputs": [
    {
     "name": "stdout",
     "output_type": "stream",
     "text": [
      "Mean Squared Error: 36.93436779315573\n",
      "R2 Score: 0.37372644059174454\n",
      "Fitting 3 folds for each of 36 candidates, totalling 108 fits\n",
      "Best Model Mean Squared Error: 20.053913059485826\n",
      "Best Model R2 score: 0.6565982242852819\n",
      "Best Parameters: {'max_depth': 7, 'min_samples_leaf': 4, 'min_samples_split': 10}\n"
     ]
    }
   ],
   "source": [
    "#decision tree model\n",
    "\n",
    "from sklearn.metrics import mean_squared_error, r2_score\n",
    "\n",
    "# Define the model\n",
    "dt_model = DecisionTreeRegressor(random_state=42)\n",
    "\n",
    "# Train the model\n",
    "dt_model.fit(X_train, y_train)\n",
    "\n",
    "# Make predictions\n",
    "y_pred = dt_model.predict(X_test)\n",
    "\n",
    "# Evaluate the model\n",
    "mse = mean_squared_error(y_test, y_pred)\n",
    "r2 = r2_score(y_test, y_pred)\n",
    "print(f'Mean Squared Error: {mse}')\n",
    "print(f'R2 Score: {r2}')\n",
    "\n",
    "from sklearn.model_selection import GridSearchCV\n",
    "\n",
    "# Define the hyperparameters grid\n",
    "param_grid = {\n",
    "    'max_depth': [3, 5, 7, 10],\n",
    "    'min_samples_split': [2, 5, 10],\n",
    "    'min_samples_leaf': [1, 2, 4],\n",
    "}\n",
    "\n",
    "# Setup the GridSearchCV\n",
    "grid_search = GridSearchCV(estimator=DecisionTreeRegressor(random_state=42), param_grid=param_grid, cv=3, scoring='neg_mean_squared_error', verbose=2, n_jobs=-1)\n",
    "\n",
    "# Fit the model\n",
    "grid_search.fit(X_train, y_train)\n",
    "\n",
    "# Get the best parameters and score\n",
    "best_params = grid_search.best_params_\n",
    "best_model = grid_search.best_estimator_\n",
    "best_mse = -grid_search.best_score_\n",
    "\n",
    "# Predict and evaluate\n",
    "y_pred = best_model.predict(X_test)\n",
    "best_r2 = r2_score(y_test, y_pred)\n",
    "print(f'Best Model Mean Squared Error: {best_mse}')\n",
    "print(f'Best Model R2 score: {best_r2}')\n",
    "print(f'Best Parameters: {best_params}')\n"
   ]
  }
 ],
 "metadata": {
  "kernelspec": {
   "display_name": "Python 3",
   "language": "python",
   "name": "python3"
  },
  "language_info": {
   "codemirror_mode": {
    "name": "ipython",
    "version": 3
   },
   "file_extension": ".py",
   "mimetype": "text/x-python",
   "name": "python",
   "nbconvert_exporter": "python",
   "pygments_lexer": "ipython3",
   "version": "3.12.4"
  }
 },
 "nbformat": 4,
 "nbformat_minor": 2
}
